{
  "nbformat": 4,
  "nbformat_minor": 0,
  "metadata": {
    "colab": {
      "name": "Untitled1.ipynb",
      "provenance": [],
      "authorship_tag": "ABX9TyNevzLmmhQIlRO7PUZVlJ6L",
      "include_colab_link": true
    },
    "kernelspec": {
      "name": "python3",
      "display_name": "Python 3"
    },
    "language_info": {
      "name": "python"
    }
  },
  "cells": [
    {
      "cell_type": "markdown",
      "metadata": {
        "id": "view-in-github",
        "colab_type": "text"
      },
      "source": [
        "<a href=\"https://colab.research.google.com/github/YeongJUnJoH171/ml_study/blob/main/Wine_classification_LogRegre.ipynb\" target=\"_parent\"><img src=\"https://colab.research.google.com/assets/colab-badge.svg\" alt=\"Open In Colab\"/></a>"
      ]
    },
    {
      "cell_type": "code",
      "execution_count": 19,
      "metadata": {
        "colab": {
          "base_uri": "https://localhost:8080/"
        },
        "id": "kiq3-bjTmFjv",
        "outputId": "9227d131-cff3-4f9c-ea6c-9e82dc2f22c3"
      },
      "outputs": [
        {
          "output_type": "stream",
          "name": "stdout",
          "text": [
            "<class 'pandas.core.frame.DataFrame'>\n",
            "RangeIndex: 6497 entries, 0 to 6496\n",
            "Data columns (total 4 columns):\n",
            " #   Column   Non-Null Count  Dtype  \n",
            "---  ------   --------------  -----  \n",
            " 0   alcohol  6497 non-null   float64\n",
            " 1   sugar    6497 non-null   float64\n",
            " 2   pH       6497 non-null   float64\n",
            " 3   class    6497 non-null   float64\n",
            "dtypes: float64(4)\n",
            "memory usage: 203.2 KB\n",
            "(5197, 3) (1300, 3)\n",
            "0.7808350971714451\n",
            "0.7776923076923077\n",
            "[[ 0.51270274  1.6733911  -0.68767781]] [1.81777902]\n"
          ]
        }
      ],
      "source": [
        "import pandas as pd\n",
        "wine = pd.read_csv('https://bit.ly/wine_csv_data')\n",
        "\n",
        "wine.head()\n",
        "# 화이트와인이 양성 클래스 = 전체 데이터에서 화이트 와인을 골라내는 문제 \n",
        "\n",
        "wine.info()\n",
        "# info 메서드는 데이터셋의 정보를 가져옴 \n",
        "\n",
        "wine.describe()\n",
        "# 데이터셋의 평균 표준편차 최소 최대 등을 보여줌 \n",
        "\n",
        "#  standardScalar 클래스를 이용해 특성을 표준화 \n",
        "data = wine[['alcohol','sugar','pH']].to_numpy()\n",
        "target = wine['class'].to_numpy()\n",
        "\n",
        "from sklearn.model_selection import train_test_split\n",
        "train_input, test_input, train_target, test_target = train_test_split(data, target, test_size=0.2, random_state=42) \n",
        "# 샘플 개수가 충분하므로 세트의 20퍼 정도만 테스트 세트로 나눔 \n",
        "\n",
        "print(train_input.shape , test_input.shape)\n",
        "\n",
        "from sklearn.preprocessing import StandardScaler\n",
        "ss = StandardScaler()\n",
        "ss.fit(train_input)\n",
        "train_scaled = ss.transform(train_input)\n",
        "test_scaled = ss.transform(test_input) \n",
        "# 훈련 세트를 전처리함 -> train_scaled 와 test_scaled는 표준점수로 변환된 훈련과 테스트셋 \n",
        "\n",
        "from sklearn.linear_model import LogisticRegression\n",
        "lr = LogisticRegression()\n",
        "lr.fit(train_scaled, train_target)\n",
        "print(lr.score(train_scaled, train_target))\n",
        "\n",
        "print(lr.score(test_scaled, test_target))\n",
        "\n",
        "# 회귀분석을 실시하였고, 계수를 한번 알아보면, \n",
        "\n",
        "print(lr.coef_,lr.intercept_)\n",
        "\n"
      ]
    },
    {
      "cell_type": "code",
      "source": [
        ""
      ],
      "metadata": {
        "id": "sgYlrY-LoiUH"
      },
      "execution_count": null,
      "outputs": []
    }
  ]
}